{
 "cells": [
  {
   "cell_type": "code",
   "execution_count": 2,
   "metadata": {},
   "outputs": [],
   "source": [
    "import numpy as np\n",
    "\n",
    "def get_prediction(prediction):\n",
    "    index_of_user_choice = np.argmax(prediction[0])  # Find the index of the maximum predicted value \n",
    "    user_action_list = [\"Noting\", \"Rock\", \"Paper\", \"Scissors\"]\n",
    "    user_choice = user_action_list[index_of_user_choice]\n",
    "    print(user_choice)"
   ]
  },
  {
   "cell_type": "code",
   "execution_count": 3,
   "metadata": {},
   "outputs": [],
   "source": [
    "result = [[8.7710125e-03, 9.9122894e-01, 4.5538201e-08, 2.2683283e-10]]"
   ]
  },
  {
   "cell_type": "code",
   "execution_count": 4,
   "metadata": {},
   "outputs": [
    {
     "name": "stdout",
     "output_type": "stream",
     "text": [
      "Rock\n"
     ]
    }
   ],
   "source": [
    "test = get_prediction(result)"
   ]
  }
 ],
 "metadata": {
  "kernelspec": {
   "display_name": "RPS_env",
   "language": "python",
   "name": "python3"
  },
  "language_info": {
   "codemirror_mode": {
    "name": "ipython",
    "version": 3
   },
   "file_extension": ".py",
   "mimetype": "text/x-python",
   "name": "python",
   "nbconvert_exporter": "python",
   "pygments_lexer": "ipython3",
   "version": "3.11.4"
  },
  "orig_nbformat": 4
 },
 "nbformat": 4,
 "nbformat_minor": 2
}
